{
 "cells": [
  {
   "cell_type": "code",
   "execution_count": 15,
   "metadata": {},
   "outputs": [],
   "source": [
    "import retro\n",
    "import numpy as np\n",
    "import cv2\n",
    "import neat\n",
    "import pickle\n",
    "\n",
    "env = retro.make('Airstriker-Genesis','Level1')\n",
    "\n",
    "imgarray = []\n",
    "\n",
    "xpos_end = 0\n",
    "\n",
    "def eval_genomes(genomes, config):\n",
    "    for genome_id, genome in genomes : \n",
    "        ob = env.reset()\n",
    "        ac = env.action_space.sample()\n",
    "        \n",
    "        inx, iny, inc = env.observation_space.shape\n",
    "        \n",
    "        inx = int(inx/8)\n",
    "        iny = int(inx/8)\n",
    "        \n",
    "        net = neat.nn.recurrent.RecurrentNetwork.create(genome,config)\n",
    "        \n",
    "        current_max_fitness = 0\n",
    "        fitness_current = 0\n",
    "        frame = 0\n",
    "        counter = 0\n",
    "        xpos = 0\n",
    "        xpos_max = 0\n",
    "        \n",
    "        done = False\n",
    "        \n",
    "        while not done : \n",
    "            env.render()\n",
    "            frame += 1\n",
    "            \n",
    "            ob = cv2.resize(ob, (inx,iny))\n",
    "            ob = cv2.cvtColor(ob, cv2.COLOR_BGR2GRAY)\n",
    "            ob = np.reshape(ob, (inx,iny))\n",
    "            \n",
    "            for x in ob:\n",
    "                for y in x:\n",
    "                    imgarray.append(y)\n",
    "            nnOutput =  net.activate(imgarray)\n",
    "            \n",
    "            ob, rew, done, info = env.step(nnOutput)\n",
    "            \n",
    "            imgarray.clear()\n",
    "            \n",
    "        env.close()\n",
    "        \n",
    "        \n",
    "config = neat.Config(neat.DefaultGenome, neat.DefaultReproduction,\n",
    "                    neat.DefaultSpeciesSet, neat.DefaultStagnation,\n",
    "                    'config-feedforward')\n",
    "\n",
    "p = neat.Population(config)\n",
    "            "
   ]
  },
  {
   "cell_type": "code",
   "execution_count": 16,
   "metadata": {},
   "outputs": [],
   "source": [
    "env.close()"
   ]
  },
  {
   "cell_type": "code",
   "execution_count": null,
   "metadata": {},
   "outputs": [],
   "source": []
  }
 ],
 "metadata": {
  "kernelspec": {
   "display_name": "Python 3",
   "language": "python",
   "name": "python3"
  },
  "language_info": {
   "codemirror_mode": {
    "name": "ipython",
    "version": 3
   },
   "file_extension": ".py",
   "mimetype": "text/x-python",
   "name": "python",
   "nbconvert_exporter": "python",
   "pygments_lexer": "ipython3",
   "version": "3.7.3"
  }
 },
 "nbformat": 4,
 "nbformat_minor": 2
}
